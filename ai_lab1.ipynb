{
  "nbformat": 4,
  "nbformat_minor": 0,
  "metadata": {
    "colab": {
      "provenance": [],
      "authorship_tag": "ABX9TyPBZP3Le/HpDIrBAYCMnvaK",
      "include_colab_link": true
    },
    "kernelspec": {
      "name": "python3",
      "display_name": "Python 3"
    },
    "language_info": {
      "name": "python"
    }
  },
  "cells": [
    {
      "cell_type": "markdown",
      "metadata": {
        "id": "view-in-github",
        "colab_type": "text"
      },
      "source": [
        "<a href=\"https://colab.research.google.com/github/shreyasacharya1/ai_lab/blob/main/ai_lab1.ipynb\" target=\"_parent\"><img src=\"https://colab.research.google.com/assets/colab-badge.svg\" alt=\"Open In Colab\"/></a>"
      ]
    },
    {
      "cell_type": "code",
      "execution_count": null,
      "metadata": {
        "id": "jimnIwAncgWp"
      },
      "outputs": [],
      "source": []
    },
    {
      "cell_type": "code",
      "source": [
        "def print_board(board):\n",
        "    for row in board:\n",
        "        print(\"|\".join(row))\n",
        "        print(\"-\" * 5)\n",
        "\n",
        "def check_win(board, player):\n",
        "    for row in board:\n",
        "        if all([cell == player for cell in row]):\n",
        "            return True\n",
        "    for col in range(3):\n",
        "        if all([board[row][col] == player for row in range(3)]):\n",
        "            return True\n",
        "    if board[0][0] == board[1][1] == board[2][2] == player:\n",
        "        return True\n",
        "    if board[0][2] == board[1][1] == board[2][0] == player:\n",
        "        return True\n",
        "    return False\n",
        "\n",
        "def check_draw(board):\n",
        "    for row in board:\n",
        "        if \" \" in row:\n",
        "            return False\n",
        "    return True\n",
        "\n",
        "def play_game():\n",
        "    board = [[\" \" for _ in range(3)] for _ in range(3)]\n",
        "    players = [\"X\", \"O\"]\n",
        "    current_player = 0\n",
        "\n",
        "    while True:\n",
        "        print_board(board)\n",
        "        player = players[current_player]\n",
        "        try:\n",
        "            row = int(input(f\"Player {player}, enter row (0-2): \"))\n",
        "            col = int(input(f\"Player {player}, enter column (0-2): \"))\n",
        "            if not (0 <= row <= 2 and 0 <= col <= 2):\n",
        "                print(\"Invalid input. Row and column must be between 0 and 2.\")\n",
        "                continue\n",
        "        except ValueError:\n",
        "            print(\"Invalid input. Please enter a number.\")\n",
        "            continue\n",
        "\n",
        "\n",
        "        if board[row][col] == \" \":\n",
        "            board[row][col] = player\n",
        "            if check_win(board, player):\n",
        "                print_board(board)\n",
        "                print(f\"Player {player} wins!\")\n",
        "                break\n",
        "            elif check_draw(board):\n",
        "                print_board(board)\n",
        "                print(\"It's a draw!\")\n",
        "                break\n",
        "            else:\n",
        "                current_player = (current_player + 1) % 2\n",
        "        else:\n",
        "            print(\"That spot is already taken! Try again.\")\n",
        "\n",
        "play_game()"
      ],
      "metadata": {
        "colab": {
          "base_uri": "https://localhost:8080/"
        },
        "id": "830RMei3gFxE",
        "outputId": "80305783-fba5-4171-e9e1-c1b3ef2943e1"
      },
      "execution_count": null,
      "outputs": [
        {
          "output_type": "stream",
          "name": "stdout",
          "text": [
            " | | \n",
            "-----\n",
            " | | \n",
            "-----\n",
            " | | \n",
            "-----\n",
            "Player X, enter row (0-2): 1,1\n",
            "Invalid input. Please enter a number.\n",
            " | | \n",
            "-----\n",
            " | | \n",
            "-----\n",
            " | | \n",
            "-----\n",
            "Player X, enter row (0-2): 1\n",
            "Player X, enter column (0-2): 1\n",
            " | | \n",
            "-----\n",
            " |X| \n",
            "-----\n",
            " | | \n",
            "-----\n",
            "Player O, enter row (0-2): 2\n",
            "Player O, enter column (0-2): 0\n",
            " | | \n",
            "-----\n",
            " |X| \n",
            "-----\n",
            "O| | \n",
            "-----\n",
            "Player X, enter row (0-2): 0\n",
            "Player X, enter column (0-2): 0\n",
            "X| | \n",
            "-----\n",
            " |X| \n",
            "-----\n",
            "O| | \n",
            "-----\n",
            "Player O, enter row (0-2): 1\n",
            "Player O, enter column (0-2): 0\n",
            "X| | \n",
            "-----\n",
            "O|X| \n",
            "-----\n",
            "O| | \n",
            "-----\n",
            "Player X, enter row (0-2): 2\n",
            "Player X, enter column (0-2): 2\n",
            "X| | \n",
            "-----\n",
            "O|X| \n",
            "-----\n",
            "O| |X\n",
            "-----\n",
            "Player X wins!\n"
          ]
        }
      ]
    }
  ]
}