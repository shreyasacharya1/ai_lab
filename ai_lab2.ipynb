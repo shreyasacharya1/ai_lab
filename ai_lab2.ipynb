{
  "nbformat": 4,
  "nbformat_minor": 0,
  "metadata": {
    "colab": {
      "provenance": [],
      "authorship_tag": "ABX9TyMsmbhSKIk96uJH2m77Amgz",
      "include_colab_link": true
    },
    "kernelspec": {
      "name": "python3",
      "display_name": "Python 3"
    },
    "language_info": {
      "name": "python"
    }
  },
  "cells": [
    {
      "cell_type": "markdown",
      "metadata": {
        "id": "view-in-github",
        "colab_type": "text"
      },
      "source": [
        "<a href=\"https://colab.research.google.com/github/shreyasacharya1/ai_lab/blob/main/ai_lab2.ipynb\" target=\"_parent\"><img src=\"https://colab.research.google.com/assets/colab-badge.svg\" alt=\"Open In Colab\"/></a>"
      ]
    },
    {
      "cell_type": "code",
      "execution_count": 1,
      "metadata": {
        "colab": {
          "base_uri": "https://localhost:8080/"
        },
        "id": "QlA89RzgfuGE",
        "outputId": "3318290e-6293-4b5f-9afe-faaf019dccbb"
      },
      "outputs": [
        {
          "output_type": "stream",
          "name": "stdout",
          "text": [
            "hellop world\n"
          ]
        }
      ],
      "source": [
        "print(\"hellop world\")"
      ]
    },
    {
      "cell_type": "code",
      "source": [
        "print(\"Shreyas.R.Achar_1BM23CS320\")\n",
        "def vacuum_cleaner_agent():\n",
        "    state_A = int(input(\"Enter state of A (0 for clean, 1 for dirty): \"))\n",
        "    state_B = int(input(\"Enter state of B (0 for clean, 1 for dirty): \"))\n",
        "    location = input(\"Enter location (A or B): \").upper()\n",
        "\n",
        "    cost = 0\n",
        "    states = {'A': state_A, 'B': state_B}\n",
        "\n",
        "    if states['A'] == 0 and states['B'] == 0:\n",
        "        print(\"Turning vacuum off\")\n",
        "        print(f\"Cost: {cost}\")\n",
        "        print(states)\n",
        "        return\n",
        "\n",
        "    def clean_location(loc):\n",
        "        nonlocal cost\n",
        "        if states[loc] == 1:\n",
        "            print(f\"Cleaned {loc}.\")\n",
        "            states[loc] = 0\n",
        "            cost += 1\n",
        "\n",
        "    if location == 'A':\n",
        "        if states['A'] == 1:\n",
        "            clean_location('A')\n",
        "        else:\n",
        "            print(\"A is clean\")\n",
        "        print(\"Moving vacuum right\")\n",
        "        cost += 1\n",
        "        if states['B'] == 1:\n",
        "            clean_location('B')\n",
        "        else:\n",
        "            print(\"B is clean\")\n",
        "\n",
        "        print(\"Is B clean now? (0 if clean, 1 if dirty):\", states['B'])\n",
        "        print(\"Is A dirty? (0 if clean, 1 if dirty):\", states['A'])\n",
        "\n",
        "        if states['A'] == 1:\n",
        "            print(\"Moving vacuum left\")\n",
        "            cost += 1\n",
        "            clean_location('A')\n",
        "\n",
        "    elif location == 'B':\n",
        "        if states['B'] == 1:\n",
        "            clean_location('B')\n",
        "        else:\n",
        "            print(\"B is clean\")\n",
        "        print(\"Moving vacuum left\")\n",
        "        cost += 1\n",
        "        if states['A'] == 1:\n",
        "            clean_location('A')\n",
        "        else:\n",
        "            print(\"A is clean\")\n",
        "\n",
        "        print(\"Is A clean now? (0 if clean, 1 if dirty):\", states['A'])\n",
        "        print(\"Is B dirty? (0 if clean, 1 if dirty):\", states['B'])\n",
        "\n",
        "        if states['B'] == 1:\n",
        "            print(\"Moving vacuum right\")\n",
        "            cost += 1\n",
        "            clean_location('B')\n",
        "\n",
        "    print(f\"Cost: {cost}\")\n",
        "    print(states)\n",
        "\n",
        "vacuum_cleaner_agent()"
      ],
      "metadata": {
        "colab": {
          "base_uri": "https://localhost:8080/"
        },
        "id": "pF1DbZsWgAQu",
        "outputId": "d8686d08-c97b-4e1a-bc3b-ef9a6be0b8e8"
      },
      "execution_count": 3,
      "outputs": [
        {
          "output_type": "stream",
          "name": "stdout",
          "text": [
            "Shreyas.R.Achar_1BM23CS320\n",
            "Enter state of A (0 for clean, 1 for dirty): 1\n",
            "Enter state of B (0 for clean, 1 for dirty): 1\n",
            "Enter location (A or B): a\n",
            "Cleaned A.\n",
            "Moving vacuum right\n",
            "Cleaned B.\n",
            "Is B clean now? (0 if clean, 1 if dirty): 0\n",
            "Is A dirty? (0 if clean, 1 if dirty): 0\n",
            "Cost: 3\n",
            "{'A': 0, 'B': 0}\n"
          ]
        }
      ]
    }
  ]
}