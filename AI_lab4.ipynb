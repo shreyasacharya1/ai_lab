{
  "nbformat": 4,
  "nbformat_minor": 0,
  "metadata": {
    "colab": {
      "provenance": [],
      "authorship_tag": "ABX9TyN0RXMthVVhZotU/86QaUU3",
      "include_colab_link": true
    },
    "kernelspec": {
      "name": "python3",
      "display_name": "Python 3"
    },
    "language_info": {
      "name": "python"
    }
  },
  "cells": [
    {
      "cell_type": "markdown",
      "metadata": {
        "id": "view-in-github",
        "colab_type": "text"
      },
      "source": [
        "<a href=\"https://colab.research.google.com/github/shreyasacharya1/ai_lab/blob/main/AI_lab4.ipynb\" target=\"_parent\"><img src=\"https://colab.research.google.com/assets/colab-badge.svg\" alt=\"Open In Colab\"/></a>"
      ]
    },
    {
      "cell_type": "code",
      "execution_count": null,
      "metadata": {
        "id": "eI1xywiktphC"
      },
      "outputs": [],
      "source": []
    },
    {
      "cell_type": "code",
      "metadata": {
        "id": "613700b4"
      },
      "source": [
        "import heapq\n",
        "\n",
        "def misplaced_tiles(state, goal):\n",
        "    count = 0\n",
        "    for i in range(3):\n",
        "        for j in range(3):\n",
        "            if state[i][j] != goal[i][j] and state[i][j] != 0:\n",
        "                count += 1\n",
        "    return count\n",
        "\n",
        "def get_neighbors(state):\n",
        "    neighbors = []\n",
        "    for i in range(3):\n",
        "        for j in range(3):\n",
        "            if state[i][j] == 0:\n",
        "                x, y = i, j\n",
        "                break\n",
        "        else:\n",
        "            continue\n",
        "        break\n",
        "\n",
        "    moves = [(0, 1), (0, -1), (1, 0), (-1, 0)]\n",
        "    for dx, dy in moves:\n",
        "        nx, ny = x + dx, y + dy\n",
        "        if 0 <= nx < 3 and 0 <= ny < 3:\n",
        "            new_state = [list(row) for row in state]\n",
        "            new_state[x][y], new_state[nx][ny] = new_state[nx][ny], new_state[x][y]\n",
        "            neighbors.append(tuple(tuple(row) for row in new_state))\n",
        "    return neighbors\n",
        "\n",
        "def astar_search(initial, goal):\n",
        "    frontier = [(misplaced_tiles(initial, goal), 0, initial)]\n",
        "    explored = set()\n",
        "    parent = {}\n",
        "    cost = {initial: 0}\n",
        "\n",
        "    while frontier:\n",
        "        f, g, current = heapq.heappop(frontier)\n",
        "\n",
        "        if current == goal:\n",
        "            path = []\n",
        "            while current in parent:\n",
        "                path.append(current)\n",
        "                current = parent[current]\n",
        "            path.append(initial)\n",
        "            return path[::-1]\n",
        "\n",
        "        explored.add(current)\n",
        "\n",
        "        for neighbor in get_neighbors(current):\n",
        "            new_cost = cost[current] + 1\n",
        "            if neighbor not in cost or new_cost < cost[neighbor]:\n",
        "                cost[neighbor] = new_cost\n",
        "                priority = new_cost + misplaced_tiles(neighbor, goal)\n",
        "                heapq.heappush(frontier, (priority, new_cost, neighbor))\n",
        "                parent[neighbor] = current\n",
        "    return None"
      ],
      "execution_count": 1,
      "outputs": []
    },
    {
      "cell_type": "code",
      "source": [
        "print(\"Shreyas.R.Achar_1BM23CS320\")"
      ],
      "metadata": {
        "colab": {
          "base_uri": "https://localhost:8080/"
        },
        "id": "5sk3Ub5hue6n",
        "outputId": "303bece2-c3a7-4b30-ceec-b57faab8ef3c"
      },
      "execution_count": 4,
      "outputs": [
        {
          "output_type": "stream",
          "name": "stdout",
          "text": [
            "Shreyas.R.Achar_1BM23CS320\n"
          ]
        }
      ]
    },
    {
      "cell_type": "code",
      "metadata": {
        "colab": {
          "base_uri": "https://localhost:8080/"
        },
        "id": "03e3ae64",
        "outputId": "1f6705d5-3773-4ee5-9333-2f373d75818d"
      },
      "source": [
        "\n",
        "\n",
        "def get_state_input(prompt):\n",
        "    print(prompt)\n",
        "    state = []\n",
        "    for _ in range(3):\n",
        "        row = list(map(int, input().split()))\n",
        "        state.append(row)\n",
        "    return tuple(tuple(row) for row in state)\n",
        "\n",
        "initial_state = get_state_input(\"Enter the initial state (3 rows of 3 numbers separated by spaces, use 0 for the blank):\")\n",
        "goal_state = get_state_input(\"Enter the goal state (3 rows of 3 numbers separated by spaces, use 0 for the blank):\")\n",
        "\n",
        "path = astar_search(initial_state, goal_state)\n",
        "\n",
        "if path:\n",
        "    print(\"Solution found:\")\n",
        "    for step in path:\n",
        "        for row in step:\n",
        "            print(row)\n",
        "        print()\n",
        "else:\n",
        "    print(\"No solution found.\")"
      ],
      "execution_count": 3,
      "outputs": [
        {
          "output_type": "stream",
          "name": "stdout",
          "text": [
            "Enter the initial state (3 rows of 3 numbers separated by spaces, use 0 for the blank):\n",
            "2 8 3\n",
            "1 6 4\n",
            "7 0 5\n",
            "Enter the goal state (3 rows of 3 numbers separated by spaces, use 0 for the blank):\n",
            "1 2 3\n",
            "8 0 4\n",
            "7 6 5\n",
            "Solution found:\n",
            "(2, 8, 3)\n",
            "(1, 6, 4)\n",
            "(7, 0, 5)\n",
            "\n",
            "(2, 8, 3)\n",
            "(1, 0, 4)\n",
            "(7, 6, 5)\n",
            "\n",
            "(2, 0, 3)\n",
            "(1, 8, 4)\n",
            "(7, 6, 5)\n",
            "\n",
            "(0, 2, 3)\n",
            "(1, 8, 4)\n",
            "(7, 6, 5)\n",
            "\n",
            "(1, 2, 3)\n",
            "(0, 8, 4)\n",
            "(7, 6, 5)\n",
            "\n",
            "(1, 2, 3)\n",
            "(8, 0, 4)\n",
            "(7, 6, 5)\n",
            "\n"
          ]
        }
      ]
    }
  ]
}